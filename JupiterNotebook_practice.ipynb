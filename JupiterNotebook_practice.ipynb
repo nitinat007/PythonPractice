{
 "cells": [
  {
   "cell_type": "code",
   "execution_count": 1,
   "metadata": {},
   "outputs": [
    {
     "name": "stdout",
     "output_type": "stream",
     "text": [
      "\n",
      "Please wait a moment while I gather a list of all available modules...\n",
      "\n"
     ]
    },
    {
     "name": "stderr",
     "output_type": "stream",
     "text": [
      "/usr/local/lib/python3.7/site-packages/IPython/kernel/__init__.py:13: ShimWarning: The `IPython.kernel` package has been deprecated since IPython 4.0.You should import from ipykernel or jupyter_client instead.\n",
      "  \"You should import from ipykernel or jupyter_client instead.\", ShimWarning)\n"
     ]
    },
    {
     "name": "stdout",
     "output_type": "stream",
     "text": [
      "IPython             asyncio             importlib_metadata  rmagic\n",
      "__future__          asyncore            inspect             rsa\n",
      "_abc                atexit              io                  runpy\n",
      "_ast                attr                ipaddress           s3transfer\n",
      "_asyncio            audioop             ipykernel           sched\n",
      "_bisect             autoreload          ipykernel_launcher  secrets\n",
      "_blake2             awscli              ipython_genutils    select\n",
      "_bootlocale         awsshell            itertools           selectors\n",
      "_bz2                backcall            jedi                send2trash\n",
      "_codecs             base64              jinja2              setuptools\n",
      "_codecs_cn          basics              jmespath            shelve\n",
      "_codecs_hk          bdb                 json                shlex\n",
      "_codecs_iso2022     binascii            json5               shutil\n",
      "_codecs_jp          binhex              jsonschema          signal\n",
      "_codecs_kr          bisect              jupyter             site\n",
      "_codecs_tw          bleach              jupyter_client      sitecustomize\n",
      "_collections        boto3               jupyter_core        six\n",
      "_collections_abc    botocore            jupyterlab          smtpd\n",
      "_compat_pickle      builtins            jupyterlab_server   smtplib\n",
      "_compression        bz2                 keyword             sndhdr\n",
      "_contextvars        cProfile            lib2to3             socket\n",
      "_crypt              calendar            linecache           socketserver\n",
      "_csv                certifi             locale              sqlite3\n",
      "_ctypes             cgi                 logging             sre_compile\n",
      "_ctypes_test        cgitb               lzma                sre_constants\n",
      "_curses             chardet             macpath             sre_parse\n",
      "_curses_panel       chunk               mailbox             ssl\n",
      "_datetime           cmath               mailcap             stat\n",
      "_dbm                cmd                 markupsafe          statistics\n",
      "_decimal            code                marshal             storemagic\n",
      "_dummy_thread       codecs              math                string\n",
      "_elementtree        codeop              mimetypes           stringprep\n",
      "_functools          collections         mistune             struct\n",
      "_gdbm               colorama            mmap                subprocess\n",
      "_hashlib            colorsys            modulefinder        sunau\n",
      "_heapq              compileall          multiprocessing     symbol\n",
      "_imp                concurrent          nbconvert           sympyprinting\n",
      "_io                 configobj           nbformat            symtable\n",
      "_json               configparser        netrc               sys\n",
      "_locale             contextlib          nis                 sysconfig\n",
      "_lsprof             contextvars         nntplib             syslog\n",
      "_lzma               copy                notebook            tabnanny\n",
      "_markupbase         copyreg             ntpath              tarfile\n",
      "_md5                crypt               nturl2path          telnetlib\n",
      "_multibytecodec     csv                 numbers             tempfile\n",
      "_multiprocessing    ctypes              numpy               terminado\n",
      "_opcode             curses              opcode              termios\n",
      "_operator           cythonmagic         operator            test\n",
      "_osx_support        dataclasses         optparse            testpath\n",
      "_pickle             datetime            os                  tests\n",
      "_posixsubprocess    dateutil            packaging           textwrap\n",
      "_py_abc             dbm                 pandocfilters       this\n",
      "_pydecimal          decimal             parser              threading\n",
      "_pyio               decorator           parso               time\n",
      "_pyrsistent_version defusedxml          pathlib             timeit\n",
      "_queue              difflib             pdb                 tkinter\n",
      "_random             dis                 pexpect             token\n",
      "_scproxy            distutils           pickle              tokenize\n",
      "_sha1               doctest             pickleshare         tornado\n",
      "_sha256             docutils            pickletools         trace\n",
      "_sha3               dummy_threading     pip                 traceback\n",
      "_sha512             easy_install        pipes               tracemalloc\n",
      "_signal             email               pkg_resources       traitlets\n",
      "_sitebuiltins       encodings           pkgutil             tty\n",
      "_socket             ensurepip           platform            turtle\n",
      "_sqlite3            entrypoints         plistlib            turtledemo\n",
      "_sre                enum                poplib              types\n",
      "_ssl                errno               posix               typing\n",
      "_stat               faulthandler        posixpath           unicodedata\n",
      "_string             fcntl               pprint              unittest\n",
      "_strptime           filecmp             profile             urllib\n",
      "_struct             fileinput           prometheus_client   urllib3\n",
      "_symtable           fnmatch             prompt_toolkit      uu\n",
      "_sysconfigdata_m_darwin_darwin formatter           pstats              uuid\n",
      "_testbuffer         fractions           pty                 validate\n",
      "_testcapi           ftplib              ptyprocess          venv\n",
      "_testimportmultiple functools           pvectorc            warnings\n",
      "_testmultiphase     gc                  pwd                 wave\n",
      "_thread             genericpath         py_compile          wcwidth\n",
      "_threading_local    getopt              pyasn1              weakref\n",
      "_tkinter            getpass             pyclbr              webbrowser\n",
      "_tracemalloc        gettext             pydoc               webencodings\n",
      "_uuid               glob                pydoc_data          wheel\n",
      "_version            grp                 pyexpat             wsgiref\n",
      "_warnings           gzip                pygments            xdrlib\n",
      "_weakref            hashlib             pyparsing           xml\n",
      "_weakrefset         heapq               pyrsistent          xmlrpc\n",
      "_xxtestfuzz         hmac                queue               xxlimited\n",
      "abc                 html                quopri              xxsubtype\n",
      "aifc                http                random              yaml\n",
      "antigravity         idlelib             re                  zipapp\n",
      "appnope             idna                readline            zipfile\n",
      "argparse            imaplib             reprlib             zipimport\n",
      "array               imghdr              requests            zipp\n",
      "ast                 imp                 resource            zlib\n",
      "asynchat            importlib           rlcompleter         zmq\n",
      "\n",
      "Enter any module name to get more help.  Or, type \"modules spam\" to search\n",
      "for modules whose name or summary contain the string \"spam\".\n",
      "\n"
     ]
    },
    {
     "name": "stderr",
     "output_type": "stream",
     "text": [
      "/usr/local/Cellar/python/3.7.6_1/Frameworks/Python.framework/Versions/3.7/lib/python3.7/pkgutil.py:107: VisibleDeprecationWarning: zmq.eventloop.minitornado is deprecated in pyzmq 14.0 and will be removed.\n",
      "    Install tornado itself to use zmq with the tornado IOLoop.\n",
      "    \n",
      "  yield from walk_packages(path, info.name+'.', onerror)\n"
     ]
    }
   ],
   "source": [
    "help('modules')"
   ]
  },
  {
   "cell_type": "code",
   "execution_count": 2,
   "metadata": {},
   "outputs": [
    {
     "name": "stdout",
     "output_type": "stream",
     "text": [
      "Help on module cmd:\n",
      "\n",
      "NAME\n",
      "    cmd - A generic class to build line-oriented command interpreters.\n",
      "\n",
      "MODULE REFERENCE\n",
      "    https://docs.python.org/3.7/library/cmd\n",
      "    \n",
      "    The following documentation is automatically generated from the Python\n",
      "    source files.  It may be incomplete, incorrect or include features that\n",
      "    are considered implementation detail and may vary between Python\n",
      "    implementations.  When in doubt, consult the module reference at the\n",
      "    location listed above.\n",
      "\n",
      "DESCRIPTION\n",
      "    Interpreters constructed with this class obey the following conventions:\n",
      "    \n",
      "    1. End of file on input is processed as the command 'EOF'.\n",
      "    2. A command is parsed out of each line by collecting the prefix composed\n",
      "       of characters in the identchars member.\n",
      "    3. A command `foo' is dispatched to a method 'do_foo()'; the do_ method\n",
      "       is passed a single argument consisting of the remainder of the line.\n",
      "    4. Typing an empty line repeats the last command.  (Actually, it calls the\n",
      "       method `emptyline', which may be overridden in a subclass.)\n",
      "    5. There is a predefined `help' method.  Given an argument `topic', it\n",
      "       calls the command `help_topic'.  With no arguments, it lists all topics\n",
      "       with defined help_ functions, broken into up to three topics; documented\n",
      "       commands, miscellaneous help topics, and undocumented commands.\n",
      "    6. The command '?' is a synonym for `help'.  The command '!' is a synonym\n",
      "       for `shell', if a do_shell method exists.\n",
      "    7. If completion is enabled, completing commands will be done automatically,\n",
      "       and completing of commands args is done by calling complete_foo() with\n",
      "       arguments text, line, begidx, endidx.  text is string we are matching\n",
      "       against, all returned matches must begin with it.  line is the current\n",
      "       input line (lstripped), begidx and endidx are the beginning and end\n",
      "       indexes of the text being matched, which could be used to provide\n",
      "       different completion depending upon which position the argument is in.\n",
      "    \n",
      "    The `default' method may be overridden to intercept commands for which there\n",
      "    is no do_ method.\n",
      "    \n",
      "    The `completedefault' method may be overridden to intercept completions for\n",
      "    commands that have no complete_ method.\n",
      "    \n",
      "    The data member `self.ruler' sets the character used to draw separator lines\n",
      "    in the help messages.  If empty, no ruler line is drawn.  It defaults to \"=\".\n",
      "    \n",
      "    If the value of `self.intro' is nonempty when the cmdloop method is called,\n",
      "    it is printed out on interpreter startup.  This value may be overridden\n",
      "    via an optional argument to the cmdloop() method.\n",
      "    \n",
      "    The data members `self.doc_header', `self.misc_header', and\n",
      "    `self.undoc_header' set the headers used for the help function's\n",
      "    listings of documented functions, miscellaneous topics, and undocumented\n",
      "    functions respectively.\n",
      "\n",
      "CLASSES\n",
      "    builtins.object\n",
      "        Cmd\n",
      "    \n",
      "    class Cmd(builtins.object)\n",
      "     |  Cmd(completekey='tab', stdin=None, stdout=None)\n",
      "     |  \n",
      "     |  A simple framework for writing line-oriented command interpreters.\n",
      "     |  \n",
      "     |  These are often useful for test harnesses, administrative tools, and\n",
      "     |  prototypes that will later be wrapped in a more sophisticated interface.\n",
      "     |  \n",
      "     |  A Cmd instance or subclass instance is a line-oriented interpreter\n",
      "     |  framework.  There is no good reason to instantiate Cmd itself; rather,\n",
      "     |  it's useful as a superclass of an interpreter class you define yourself\n",
      "     |  in order to inherit Cmd's methods and encapsulate action methods.\n",
      "     |  \n",
      "     |  Methods defined here:\n",
      "     |  \n",
      "     |  __init__(self, completekey='tab', stdin=None, stdout=None)\n",
      "     |      Instantiate a line-oriented interpreter framework.\n",
      "     |      \n",
      "     |      The optional argument 'completekey' is the readline name of a\n",
      "     |      completion key; it defaults to the Tab key. If completekey is\n",
      "     |      not None and the readline module is available, command completion\n",
      "     |      is done automatically. The optional arguments stdin and stdout\n",
      "     |      specify alternate input and output file objects; if not specified,\n",
      "     |      sys.stdin and sys.stdout are used.\n",
      "     |  \n",
      "     |  cmdloop(self, intro=None)\n",
      "     |      Repeatedly issue a prompt, accept input, parse an initial prefix\n",
      "     |      off the received input, and dispatch to action methods, passing them\n",
      "     |      the remainder of the line as argument.\n",
      "     |  \n",
      "     |  columnize(self, list, displaywidth=80)\n",
      "     |      Display a list of strings as a compact set of columns.\n",
      "     |      \n",
      "     |      Each column is only as wide as necessary.\n",
      "     |      Columns are separated by two spaces (one was not legible enough).\n",
      "     |  \n",
      "     |  complete(self, text, state)\n",
      "     |      Return the next possible completion for 'text'.\n",
      "     |      \n",
      "     |      If a command has not been entered, then complete against command list.\n",
      "     |      Otherwise try to call complete_<command> to get list of completions.\n",
      "     |  \n",
      "     |  complete_help(self, *args)\n",
      "     |  \n",
      "     |  completedefault(self, *ignored)\n",
      "     |      Method called to complete an input line when no command-specific\n",
      "     |      complete_*() method is available.\n",
      "     |      \n",
      "     |      By default, it returns an empty list.\n",
      "     |  \n",
      "     |  completenames(self, text, *ignored)\n",
      "     |  \n",
      "     |  default(self, line)\n",
      "     |      Called on an input line when the command prefix is not recognized.\n",
      "     |      \n",
      "     |      If this method is not overridden, it prints an error message and\n",
      "     |      returns.\n",
      "     |  \n",
      "     |  do_help(self, arg)\n",
      "     |      List available commands with \"help\" or detailed help with \"help cmd\".\n",
      "     |  \n",
      "     |  emptyline(self)\n",
      "     |      Called when an empty line is entered in response to the prompt.\n",
      "     |      \n",
      "     |      If this method is not overridden, it repeats the last nonempty\n",
      "     |      command entered.\n",
      "     |  \n",
      "     |  get_names(self)\n",
      "     |  \n",
      "     |  onecmd(self, line)\n",
      "     |      Interpret the argument as though it had been typed in response\n",
      "     |      to the prompt.\n",
      "     |      \n",
      "     |      This may be overridden, but should not normally need to be;\n",
      "     |      see the precmd() and postcmd() methods for useful execution hooks.\n",
      "     |      The return value is a flag indicating whether interpretation of\n",
      "     |      commands by the interpreter should stop.\n",
      "     |  \n",
      "     |  parseline(self, line)\n",
      "     |      Parse the line into a command name and a string containing\n",
      "     |      the arguments.  Returns a tuple containing (command, args, line).\n",
      "     |      'command' and 'args' may be None if the line couldn't be parsed.\n",
      "     |  \n",
      "     |  postcmd(self, stop, line)\n",
      "     |      Hook method executed just after a command dispatch is finished.\n",
      "     |  \n",
      "     |  postloop(self)\n",
      "     |      Hook method executed once when the cmdloop() method is about to\n",
      "     |      return.\n",
      "     |  \n",
      "     |  precmd(self, line)\n",
      "     |      Hook method executed just before the command line is\n",
      "     |      interpreted, but after the input prompt is generated and issued.\n",
      "     |  \n",
      "     |  preloop(self)\n",
      "     |      Hook method executed once when the cmdloop() method is called.\n",
      "     |  \n",
      "     |  print_topics(self, header, cmds, cmdlen, maxcol)\n",
      "     |  \n",
      "     |  ----------------------------------------------------------------------\n",
      "     |  Data descriptors defined here:\n",
      "     |  \n",
      "     |  __dict__\n",
      "     |      dictionary for instance variables (if defined)\n",
      "     |  \n",
      "     |  __weakref__\n",
      "     |      list of weak references to the object (if defined)\n",
      "     |  \n",
      "     |  ----------------------------------------------------------------------\n",
      "     |  Data and other attributes defined here:\n",
      "     |  \n",
      "     |  doc_header = 'Documented commands (type help <topic>):'\n",
      "     |  \n",
      "     |  doc_leader = ''\n",
      "     |  \n",
      "     |  identchars = 'abcdefghijklmnopqrstuvwxyzABCDEFGHIJKLMNOPQRSTUVWXYZ0123...\n",
      "     |  \n",
      "     |  intro = None\n",
      "     |  \n",
      "     |  lastcmd = ''\n",
      "     |  \n",
      "     |  misc_header = 'Miscellaneous help topics:'\n",
      "     |  \n",
      "     |  nohelp = '*** No help on %s'\n",
      "     |  \n",
      "     |  prompt = '(Cmd) '\n",
      "     |  \n",
      "     |  ruler = '='\n",
      "     |  \n",
      "     |  undoc_header = 'Undocumented commands:'\n",
      "     |  \n",
      "     |  use_rawinput = 1\n",
      "\n",
      "DATA\n",
      "    __all__ = ['Cmd']\n",
      "\n",
      "FILE\n",
      "    /usr/local/Cellar/python/3.7.6_1/Frameworks/Python.framework/Versions/3.7/lib/python3.7/cmd.py\n",
      "\n",
      "\n"
     ]
    }
   ],
   "source": [
    "help('cmd')"
   ]
  },
  {
   "cell_type": "markdown",
   "metadata": {},
   "source": [
    "#### install module"
   ]
  },
  {
   "cell_type": "code",
   "execution_count": 3,
   "metadata": {},
   "outputs": [
    {
     "name": "stdout",
     "output_type": "stream",
     "text": [
      "Requirement already satisfied: numpy in /usr/local/lib/python3.7/site-packages (1.19.1)\n",
      "Note: you may need to restart the kernel to use updated packages.\n"
     ]
    }
   ],
   "source": [
    "pip install  numpy"
   ]
  },
  {
   "cell_type": "markdown",
   "metadata": {},
   "source": [
    "#### Testing: sum of two numbers"
   ]
  },
  {
   "cell_type": "code",
   "execution_count": 4,
   "metadata": {},
   "outputs": [
    {
     "name": "stdout",
     "output_type": "stream",
     "text": [
      "Sum = 4\n"
     ]
    }
   ],
   "source": [
    "a=1\n",
    "b=3\n",
    "print(\"Sum =\",a+b)"
   ]
  },
  {
   "cell_type": "markdown",
   "metadata": {},
   "source": [
    "#### Data Types Example"
   ]
  },
  {
   "cell_type": "code",
   "execution_count": 5,
   "metadata": {},
   "outputs": [
    {
     "name": "stdout",
     "output_type": "stream",
     "text": [
      "2\n"
     ]
    }
   ],
   "source": [
    "print(True+True) #True = 1 , False = 0"
   ]
  },
  {
   "cell_type": "code",
   "execution_count": 6,
   "metadata": {},
   "outputs": [
    {
     "data": {
      "text/plain": [
       "'0o14'"
      ]
     },
     "execution_count": 6,
     "metadata": {},
     "output_type": "execute_result"
    }
   ],
   "source": [
    "oct(12) # Octal"
   ]
  },
  {
   "cell_type": "code",
   "execution_count": 7,
   "metadata": {},
   "outputs": [
    {
     "data": {
      "text/plain": [
       "'0xc'"
      ]
     },
     "execution_count": 7,
     "metadata": {},
     "output_type": "execute_result"
    }
   ],
   "source": [
    "hex(12)"
   ]
  },
  {
   "cell_type": "code",
   "execution_count": 8,
   "metadata": {},
   "outputs": [
    {
     "data": {
      "text/plain": [
       "'0b1100'"
      ]
     },
     "execution_count": 8,
     "metadata": {},
     "output_type": "execute_result"
    }
   ],
   "source": [
    "bin(12)"
   ]
  },
  {
   "cell_type": "code",
   "execution_count": 9,
   "metadata": {},
   "outputs": [
    {
     "data": {
      "text/plain": [
       "12"
      ]
     },
     "execution_count": 9,
     "metadata": {},
     "output_type": "execute_result"
    }
   ],
   "source": [
    "int(0o14)"
   ]
  },
  {
   "cell_type": "markdown",
   "metadata": {},
   "source": [
    "#### String"
   ]
  },
  {
   "cell_type": "code",
   "execution_count": 10,
   "metadata": {},
   "outputs": [
    {
     "name": "stdout",
     "output_type": "stream",
     "text": [
      "=> My Name is 'Anthony'\n"
     ]
    }
   ],
   "source": [
    "name = \"My Name is 'Anthony'\"\n",
    "print(\"=>\",name)"
   ]
  },
  {
   "cell_type": "code",
   "execution_count": 11,
   "metadata": {},
   "outputs": [
    {
     "name": "stdout",
     "output_type": "stream",
     "text": [
      "=> My Name is \"Anthony\"\n"
     ]
    }
   ],
   "source": [
    "name = 'My Name is \"Anthony\"'\n",
    "print(\"=>\",name)"
   ]
  },
  {
   "cell_type": "code",
   "execution_count": 12,
   "metadata": {},
   "outputs": [
    {
     "name": "stdout",
     "output_type": "stream",
     "text": [
      "=> My Name is 'Anthony'\n"
     ]
    }
   ],
   "source": [
    "name = \"\"\"My Name is 'Anthony'\"\"\"\n",
    "print(\"=>\",name)"
   ]
  },
  {
   "cell_type": "code",
   "execution_count": 13,
   "metadata": {},
   "outputs": [
    {
     "name": "stdout",
     "output_type": "stream",
     "text": [
      "=> My Name is \"Anthony\"\n"
     ]
    }
   ],
   "source": [
    "name = '''My Name is \"Anthony\"'''\n",
    "print(\"=>\",name)"
   ]
  },
  {
   "cell_type": "code",
   "execution_count": 14,
   "metadata": {},
   "outputs": [
    {
     "name": "stdout",
     "output_type": "stream",
     "text": [
      "M\n"
     ]
    }
   ],
   "source": [
    "print(name[0])"
   ]
  },
  {
   "cell_type": "code",
   "execution_count": 15,
   "metadata": {},
   "outputs": [
    {
     "name": "stdout",
     "output_type": "stream",
     "text": [
      "y\n"
     ]
    }
   ],
   "source": [
    "print(name[-2])"
   ]
  },
  {
   "cell_type": "code",
   "execution_count": 16,
   "metadata": {},
   "outputs": [
    {
     "name": "stdout",
     "output_type": "stream",
     "text": [
      "y Name is \"Anthony\"\n"
     ]
    }
   ],
   "source": [
    "print(name[1:])"
   ]
  },
  {
   "cell_type": "code",
   "execution_count": 17,
   "metadata": {},
   "outputs": [
    {
     "name": "stdout",
     "output_type": "stream",
     "text": [
      "y Name is \"Anthony\n"
     ]
    }
   ],
   "source": [
    "print(name[1:-1])"
   ]
  },
  {
   "cell_type": "code",
   "execution_count": 18,
   "metadata": {},
   "outputs": [
    {
     "name": "stdout",
     "output_type": "stream",
     "text": [
      "My Name is \"Anthony\"My Name is \"Anthony\"\n"
     ]
    }
   ],
   "source": [
    "print(name*2)"
   ]
  },
  {
   "cell_type": "code",
   "execution_count": 25,
   "metadata": {},
   "outputs": [
    {
     "name": "stdout",
     "output_type": "stream",
     "text": [
      "M\n",
      "y\n",
      " \n",
      "N\n",
      "a\n",
      "m\n",
      "e\n",
      " \n",
      "i\n",
      "s\n",
      " \n",
      "\"\n",
      "A\n",
      "n\n",
      "t\n",
      "h\n",
      "o\n",
      "n\n",
      "y\n",
      "\"\n"
     ]
    }
   ],
   "source": [
    "for i in name: print(i)"
   ]
  },
  {
   "cell_type": "markdown",
   "metadata": {},
   "source": [
    "#### List"
   ]
  },
  {
   "cell_type": "code",
   "execution_count": 29,
   "metadata": {},
   "outputs": [
    {
     "name": "stdout",
     "output_type": "stream",
     "text": [
      "[1, -30, 22.4, 'nitin', 'kumar']\n"
     ]
    }
   ],
   "source": [
    "list1 = [1,-30, 22.4, \"nitin\",'kumar']\n",
    "print(list1)"
   ]
  },
  {
   "cell_type": "code",
   "execution_count": 30,
   "metadata": {},
   "outputs": [
    {
     "name": "stdout",
     "output_type": "stream",
     "text": [
      "22.4\n"
     ]
    }
   ],
   "source": [
    "print(list1[2])"
   ]
  },
  {
   "cell_type": "code",
   "execution_count": 33,
   "metadata": {},
   "outputs": [
    {
     "name": "stdout",
     "output_type": "stream",
     "text": [
      "1\n",
      "-30\n",
      "22.4\n",
      "nitin\n",
      "kumar\n"
     ]
    }
   ],
   "source": [
    "for j in list1: print(j)"
   ]
  },
  {
   "cell_type": "code",
   "execution_count": 38,
   "metadata": {},
   "outputs": [
    {
     "name": "stdout",
     "output_type": "stream",
     "text": [
      "[1, -30, 'something', 'something', 22.4, 'nitin', 'kumar']\n"
     ]
    }
   ],
   "source": [
    "list1.insert(2,\"something\")\n",
    "print(list1)"
   ]
  },
  {
   "cell_type": "markdown",
   "metadata": {},
   "source": [
    "#### Tuple -> can not modify elements"
   ]
  },
  {
   "cell_type": "code",
   "execution_count": 28,
   "metadata": {},
   "outputs": [
    {
     "name": "stdout",
     "output_type": "stream",
     "text": [
      "(11, -20.5, 'ancd', 'sfsf')\n"
     ]
    }
   ],
   "source": [
    "tuple1 = (11, -20.5, \"ancd\", 'sfsf')\n",
    "print(tuple1)"
   ]
  },
  {
   "cell_type": "code",
   "execution_count": 32,
   "metadata": {},
   "outputs": [
    {
     "name": "stdout",
     "output_type": "stream",
     "text": [
      "(0, 1, 2, 3, 4, 5, 6, 7, 8, 9)\n"
     ]
    }
   ],
   "source": [
    "tuple2 = tuple(range(10))  #range(start,end,step)\n",
    "print(tuple2)"
   ]
  },
  {
   "cell_type": "markdown",
   "metadata": {},
   "source": [
    "#### Sets -> Order not maintained"
   ]
  },
  {
   "cell_type": "code",
   "execution_count": 51,
   "metadata": {},
   "outputs": [
    {
     "name": "stdout",
     "output_type": "stream",
     "text": [
      "{'hello', 1, -20}\n"
     ]
    }
   ],
   "source": [
    "set1 = {1, -20, \"hello\" }\n",
    "print(set1)"
   ]
  },
  {
   "cell_type": "code",
   "execution_count": 52,
   "metadata": {},
   "outputs": [],
   "source": [
    "set1.update('world')"
   ]
  },
  {
   "cell_type": "code",
   "execution_count": 53,
   "metadata": {},
   "outputs": [
    {
     "name": "stdout",
     "output_type": "stream",
     "text": [
      "{'hello', 1, 'w', 'l', -20, 'd', 'r', 'o'}\n"
     ]
    }
   ],
   "source": [
    "print(set1)"
   ]
  },
  {
   "cell_type": "code",
   "execution_count": 55,
   "metadata": {},
   "outputs": [
    {
     "name": "stdout",
     "output_type": "stream",
     "text": [
      "{1, -30, 'nitin', 'kumar', 'something', 22.4}\n"
     ]
    }
   ],
   "source": [
    "set2 = set(list1)\n",
    "print(set2)"
   ]
  },
  {
   "cell_type": "code",
   "execution_count": 57,
   "metadata": {},
   "outputs": [
    {
     "name": "stdout",
     "output_type": "stream",
     "text": [
      "frozenset({1, -30, 'nitin', 'something', 22.4, 'kumar'})\n"
     ]
    }
   ],
   "source": [
    "set3 = frozenset(set2)  #can not be modified\n",
    "print(set3)"
   ]
  },
  {
   "cell_type": "markdown",
   "metadata": {},
   "source": [
    "#### Dictionary "
   ]
  },
  {
   "cell_type": "code",
   "execution_count": 58,
   "metadata": {},
   "outputs": [
    {
     "name": "stdout",
     "output_type": "stream",
     "text": [
      "{1: 'Ram', 2: 'Rohan'}\n"
     ]
    }
   ],
   "source": [
    "dict1 = {1:'Ram', 2:'Rohan'}\n",
    "print(dict1)"
   ]
  },
  {
   "cell_type": "code",
   "execution_count": 60,
   "metadata": {},
   "outputs": [
    {
     "name": "stdout",
     "output_type": "stream",
     "text": [
      "dict_keys([1, 2])\n"
     ]
    }
   ],
   "source": [
    "print(dict1.keys())"
   ]
  },
  {
   "cell_type": "code",
   "execution_count": 61,
   "metadata": {},
   "outputs": [
    {
     "name": "stdout",
     "output_type": "stream",
     "text": [
      "dict_values(['Ram', 'Rohan'])\n"
     ]
    }
   ],
   "source": [
    "print(dict1.values())"
   ]
  },
  {
   "cell_type": "code",
   "execution_count": 68,
   "metadata": {},
   "outputs": [],
   "source": [
    "dict1.update({3:'Jacob'})"
   ]
  },
  {
   "cell_type": "code",
   "execution_count": 69,
   "metadata": {},
   "outputs": [
    {
     "name": "stdout",
     "output_type": "stream",
     "text": [
      "{1: 'Ram', 2: 'Rohan', 3: 'Jacob'}\n"
     ]
    }
   ],
   "source": [
    "print(dict1)"
   ]
  },
  {
   "cell_type": "markdown",
   "metadata": {},
   "source": [
    "---------------------------------------------------"
   ]
  },
  {
   "cell_type": "code",
   "execution_count": 71,
   "metadata": {},
   "outputs": [
    {
     "data": {
      "text/plain": [
       "dict"
      ]
     },
     "execution_count": 71,
     "metadata": {},
     "output_type": "execute_result"
    }
   ],
   "source": [
    "type(dict1)"
   ]
  },
  {
   "cell_type": "code",
   "execution_count": 72,
   "metadata": {},
   "outputs": [
    {
     "name": "stdout",
     "output_type": "stream",
     "text": [
      "<class 'dict'>\n"
     ]
    }
   ],
   "source": [
    "print(type(dict1))"
   ]
  },
  {
   "cell_type": "code",
   "execution_count": null,
   "metadata": {},
   "outputs": [],
   "source": []
  }
 ],
 "metadata": {
  "kernelspec": {
   "display_name": "Python 3",
   "language": "python",
   "name": "python3"
  },
  "language_info": {
   "codemirror_mode": {
    "name": "ipython",
    "version": 3
   },
   "file_extension": ".py",
   "mimetype": "text/x-python",
   "name": "python",
   "nbconvert_exporter": "python",
   "pygments_lexer": "ipython3",
   "version": "3.7.6"
  }
 },
 "nbformat": 4,
 "nbformat_minor": 4
}
