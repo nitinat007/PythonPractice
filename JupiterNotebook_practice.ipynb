{
 "cells": [
  {
   "cell_type": "code",
   "execution_count": 1,
   "metadata": {},
   "outputs": [
    {
     "name": "stdout",
     "output_type": "stream",
     "text": [
      "\n",
      "Please wait a moment while I gather a list of all available modules...\n",
      "\n"
     ]
    },
    {
     "name": "stderr",
     "output_type": "stream",
     "text": [
      "/usr/local/lib/python3.7/site-packages/IPython/kernel/__init__.py:13: ShimWarning: The `IPython.kernel` package has been deprecated since IPython 4.0.You should import from ipykernel or jupyter_client instead.\n",
      "  \"You should import from ipykernel or jupyter_client instead.\", ShimWarning)\n"
     ]
    },
    {
     "name": "stdout",
     "output_type": "stream",
     "text": [
      "IPython             asyncio             importlib_metadata  rsa\n",
      "__future__          asyncore            inspect             runpy\n",
      "_abc                atexit              io                  s3transfer\n",
      "_ast                attr                ipaddress           sched\n",
      "_asyncio            audioop             ipykernel           secrets\n",
      "_bisect             autoreload          ipykernel_launcher  select\n",
      "_blake2             awscli              ipython_genutils    selectors\n",
      "_bootlocale         awsshell            itertools           send2trash\n",
      "_bz2                backcall            jedi                setuptools\n",
      "_codecs             base64              jinja2              shelve\n",
      "_codecs_cn          basics              jmespath            shlex\n",
      "_codecs_hk          bdb                 json                shutil\n",
      "_codecs_iso2022     binascii            json5               signal\n",
      "_codecs_jp          binhex              jsonschema          site\n",
      "_codecs_kr          bisect              jupyter             sitecustomize\n",
      "_codecs_tw          bleach              jupyter_client      six\n",
      "_collections        boto3               jupyter_core        smtpd\n",
      "_collections_abc    botocore            jupyterlab          smtplib\n",
      "_compat_pickle      builtins            jupyterlab_server   sndhdr\n",
      "_compression        bz2                 keyword             socket\n",
      "_contextvars        cProfile            lib2to3             socketserver\n",
      "_crypt              calendar            linecache           sqlite3\n",
      "_csv                certifi             locale              sre_compile\n",
      "_ctypes             cgi                 logging             sre_constants\n",
      "_ctypes_test        cgitb               lzma                sre_parse\n",
      "_curses             chardet             macpath             ssl\n",
      "_curses_panel       chunk               mailbox             stat\n",
      "_datetime           cmath               mailcap             statistics\n",
      "_dbm                cmd                 markupsafe          storemagic\n",
      "_decimal            code                marshal             string\n",
      "_dummy_thread       codecs              math                stringprep\n",
      "_elementtree        codeop              mimetypes           struct\n",
      "_functools          collections         mistune             subprocess\n",
      "_gdbm               colorama            mmap                sunau\n",
      "_hashlib            colorsys            modulefinder        symbol\n",
      "_heapq              compileall          multiprocessing     sympyprinting\n",
      "_imp                concurrent          nbconvert           symtable\n",
      "_io                 configobj           nbformat            sys\n",
      "_json               configparser        netrc               sysconfig\n",
      "_locale             contextlib          nis                 syslog\n",
      "_lsprof             contextvars         nntplib             tabnanny\n",
      "_lzma               copy                notebook            tarfile\n",
      "_markupbase         copyreg             ntpath              telnetlib\n",
      "_md5                crypt               nturl2path          tempfile\n",
      "_multibytecodec     csv                 numbers             terminado\n",
      "_multiprocessing    ctypes              opcode              termios\n",
      "_opcode             curses              operator            test\n",
      "_operator           cythonmagic         optparse            testpath\n",
      "_osx_support        dataclasses         os                  tests\n",
      "_pickle             datetime            packaging           textwrap\n",
      "_posixsubprocess    dateutil            pandocfilters       this\n",
      "_py_abc             dbm                 parser              threading\n",
      "_pydecimal          decimal             parso               time\n",
      "_pyio               decorator           pathlib             timeit\n",
      "_pyrsistent_version defusedxml          pdb                 tkinter\n",
      "_queue              difflib             pexpect             token\n",
      "_random             dis                 pickle              tokenize\n",
      "_scproxy            distutils           pickleshare         tornado\n",
      "_sha1               doctest             pickletools         trace\n",
      "_sha256             docutils            pip                 traceback\n",
      "_sha3               dummy_threading     pipes               tracemalloc\n",
      "_sha512             easy_install        pkg_resources       traitlets\n",
      "_signal             email               pkgutil             tty\n",
      "_sitebuiltins       encodings           platform            turtle\n",
      "_socket             ensurepip           plistlib            turtledemo\n",
      "_sqlite3            entrypoints         poplib              types\n",
      "_sre                enum                posix               typing\n",
      "_ssl                errno               posixpath           unicodedata\n",
      "_stat               faulthandler        pprint              unittest\n",
      "_string             fcntl               profile             urllib\n",
      "_strptime           filecmp             prometheus_client   urllib3\n",
      "_struct             fileinput           prompt_toolkit      uu\n",
      "_symtable           fnmatch             pstats              uuid\n",
      "_sysconfigdata_m_darwin_darwin formatter           pty                 validate\n",
      "_testbuffer         fractions           ptyprocess          venv\n",
      "_testcapi           ftplib              pvectorc            warnings\n",
      "_testimportmultiple functools           pwd                 wave\n",
      "_testmultiphase     gc                  py_compile          wcwidth\n",
      "_thread             genericpath         pyasn1              weakref\n",
      "_threading_local    getopt              pyclbr              webbrowser\n",
      "_tkinter            getpass             pydoc               webencodings\n",
      "_tracemalloc        gettext             pydoc_data          wheel\n",
      "_uuid               glob                pyexpat             wsgiref\n",
      "_version            grp                 pygments            xdrlib\n",
      "_warnings           gzip                pyparsing           xml\n",
      "_weakref            hashlib             pyrsistent          xmlrpc\n",
      "_weakrefset         heapq               queue               xxlimited\n",
      "_xxtestfuzz         hmac                quopri              xxsubtype\n",
      "abc                 html                random              yaml\n",
      "aifc                http                re                  zipapp\n",
      "antigravity         idlelib             readline            zipfile\n",
      "appnope             idna                reprlib             zipimport\n",
      "argparse            imaplib             requests            zipp\n",
      "array               imghdr              resource            zlib\n",
      "ast                 imp                 rlcompleter         zmq\n",
      "asynchat            importlib           rmagic              \n",
      "\n",
      "Enter any module name to get more help.  Or, type \"modules spam\" to search\n",
      "for modules whose name or summary contain the string \"spam\".\n",
      "\n"
     ]
    },
    {
     "name": "stderr",
     "output_type": "stream",
     "text": [
      "/usr/local/Cellar/python/3.7.6_1/Frameworks/Python.framework/Versions/3.7/lib/python3.7/pkgutil.py:107: VisibleDeprecationWarning: zmq.eventloop.minitornado is deprecated in pyzmq 14.0 and will be removed.\n",
      "    Install tornado itself to use zmq with the tornado IOLoop.\n",
      "    \n",
      "  yield from walk_packages(path, info.name+'.', onerror)\n"
     ]
    }
   ],
   "source": [
    "help('modules')"
   ]
  },
  {
   "cell_type": "code",
   "execution_count": 2,
   "metadata": {},
   "outputs": [
    {
     "name": "stdout",
     "output_type": "stream",
     "text": [
      "Collecting numpy\n",
      "\u001b[?25l  Downloading https://files.pythonhosted.org/packages/ad/0b/c8b1383f0c43eabf925172ce850bf2224ede9fc351e8acf0ddd66ff567ff/numpy-1.19.1-cp37-cp37m-macosx_10_9_x86_64.whl (15.3MB)\n",
      "\u001b[K     |████████████████████████████████| 15.3MB 15.2MB/s eta 0:00:01\n",
      "\u001b[?25hInstalling collected packages: numpy\n",
      "Successfully installed numpy-1.19.1\n",
      "Note: you may need to restart the kernel to use updated packages.\n"
     ]
    }
   ],
   "source": [
    "pip install  numpy"
   ]
  },
  {
   "cell_type": "markdown",
   "metadata": {},
   "source": [
    "Testing: sum of two numbers"
   ]
  },
  {
   "cell_type": "code",
   "execution_count": null,
   "metadata": {},
   "outputs": [],
   "source": [
    "a=1\n",
    "b=3\n",
    "print(\"Sum=\")"
   ]
  }
 ],
 "metadata": {
  "kernelspec": {
   "display_name": "Python 3",
   "language": "python",
   "name": "python3"
  },
  "language_info": {
   "codemirror_mode": {
    "name": "ipython",
    "version": 3
   },
   "file_extension": ".py",
   "mimetype": "text/x-python",
   "name": "python",
   "nbconvert_exporter": "python",
   "pygments_lexer": "ipython3",
   "version": "3.7.6"
  }
 },
 "nbformat": 4,
 "nbformat_minor": 4
}
